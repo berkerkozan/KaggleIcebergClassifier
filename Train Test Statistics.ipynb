{
 "cells": [
  {
   "cell_type": "code",
   "execution_count": 1,
   "metadata": {
    "collapsed": true
   },
   "outputs": [],
   "source": [
    "import pandas as pd\n",
    "import numpy as np\n",
    "import matplotlib.pyplot as plt\n",
    "from scipy.ndimage import gaussian_filter\n",
    "from skimage.morphology import reconstruction\n",
    "import gc\n",
    "%matplotlib inline\n",
    "import data_utils as utils\n",
    "import numpy as np\n",
    "import  numpy\n",
    "from scipy.ndimage.interpolation import rotate"
   ]
  },
  {
   "cell_type": "markdown",
   "metadata": {},
   "source": [
    "# Comparison of Test and Train Statistics.."
   ]
  },
  {
   "cell_type": "markdown",
   "metadata": {},
   "source": [
    "# Train"
   ]
  },
  {
   "cell_type": "code",
   "execution_count": 2,
   "metadata": {
    "collapsed": true
   },
   "outputs": [],
   "source": [
    "train = pd.read_json('train.json')"
   ]
  },
  {
   "cell_type": "code",
   "execution_count": 3,
   "metadata": {
    "collapsed": true
   },
   "outputs": [],
   "source": [
    "band1train = utils.unflattenBand(train['band_1'])\n",
    "band2train = utils.unflattenBand(train['band_2'])\n",
    "band3train = utils.createThirdChannel(band1train,band2train)\n",
    "band3trainSubstract = utils.createThirdChannel(band1train,band2train,operation=\"substraction\")\n",
    "band3trainMultiply = utils.createThirdChannel(band1train,band2train,operation=\"multiplication\")"
   ]
  },
  {
   "cell_type": "markdown",
   "metadata": {},
   "source": [
    "# Test"
   ]
  },
  {
   "cell_type": "code",
   "execution_count": 5,
   "metadata": {},
   "outputs": [],
   "source": [
    "test = pd.read_json('test.json', dtype={'inc_angle': str})"
   ]
  },
  {
   "cell_type": "code",
   "execution_count": 6,
   "metadata": {},
   "outputs": [
    {
     "data": {
      "text/plain": [
       "3425"
      ]
     },
     "execution_count": 6,
     "metadata": {},
     "output_type": "execute_result"
    }
   ],
   "source": [
    "len(test[test[\"inc_angle\"].apply(lambda x:len(x))<8])"
   ]
  },
  {
   "cell_type": "code",
   "execution_count": 7,
   "metadata": {},
   "outputs": [
    {
     "data": {
      "text/plain": [
       "3425"
      ]
     },
     "execution_count": 7,
     "metadata": {},
     "output_type": "execute_result"
    }
   ],
   "source": [
    "test = test[test[\"inc_angle\"].apply(lambda x:len(x))<8].reset_index()\n",
    "len(test)"
   ]
  },
  {
   "cell_type": "code",
   "execution_count": 8,
   "metadata": {
    "collapsed": true
   },
   "outputs": [],
   "source": [
    "band1test = utils.unflattenBand(test['band_1'])\n",
    "band2test = utils.unflattenBand(test['band_2'])\n",
    "band3test = utils.createThirdChannel(band1test,band2test)\n",
    "band3testSubstract = utils.createThirdChannel(band1test,band2test,operation=\"substraction\")\n",
    "band3testMultiply = utils.createThirdChannel(band1test,band2test,operation=\"multiplication\")"
   ]
  },
  {
   "cell_type": "code",
   "execution_count": 8,
   "metadata": {
    "collapsed": true
   },
   "outputs": [],
   "source": [
    "#band1test = utils.unflattenBand(test['band_1'])\n",
    "#band2test = utils.unflattenBand(test['band_2'])\n",
    "#band3test = utils.createThirdChannel(band1test,band2test,operation=\"substraction\")"
   ]
  },
  {
   "cell_type": "markdown",
   "metadata": {},
   "source": [
    "## Start"
   ]
  },
  {
   "cell_type": "code",
   "execution_count": 9,
   "metadata": {},
   "outputs": [
    {
     "name": "stdout",
     "output_type": "stream",
     "text": [
      "(1604, 75, 75)\n",
      "(3425, 75, 75)\n"
     ]
    }
   ],
   "source": [
    "print(band1train.shape)\n",
    "print(band2test.shape)"
   ]
  },
  {
   "cell_type": "markdown",
   "metadata": {},
   "source": [
    "# Per channel"
   ]
  },
  {
   "cell_type": "code",
   "execution_count": 10,
   "metadata": {},
   "outputs": [
    {
     "name": "stdout",
     "output_type": "stream",
     "text": [
      "-20.6558\n",
      "-20.8035\n",
      "-26.3207\n",
      "-26.3318\n",
      "-23.4883\n",
      "-23.5676\n",
      "5.66487\n",
      "5.52839\n",
      "553.497\n",
      "557.084\n",
      "5.20084\n",
      "5.13649\n",
      "3.39552\n",
      "3.34482\n",
      "3.81515\n",
      "3.74682\n",
      "4.35143\n",
      "4.35754\n",
      "170.761\n",
      "167.548\n"
     ]
    }
   ],
   "source": [
    "print(np.mean(band1train))\n",
    "print(np.mean(band1test))\n",
    "print(np.mean(band2train))\n",
    "print(np.mean(band2test))\n",
    "print(np.mean(band3train))\n",
    "print(np.mean(band3test))\n",
    "print(np.mean(band3trainSubstract))\n",
    "print(np.mean(band3testSubstract))\n",
    "print(np.mean(band3trainMultiply))\n",
    "print(np.mean(band3testMultiply))\n",
    "\n",
    "print(np.std(band1train))\n",
    "print(np.std(band1test))\n",
    "print(np.std(band2train))\n",
    "print(np.std(band2test))\n",
    "print(np.std(band3train))\n",
    "print(np.std(band3test))\n",
    "print(np.std(band3trainSubstract))\n",
    "print(np.std(band3testSubstract))\n",
    "print(np.std(band3trainMultiply))\n",
    "print(np.std(band3testMultiply))"
   ]
  },
  {
   "cell_type": "markdown",
   "metadata": {},
   "source": [
    "## Augmentation statistics.."
   ]
  },
  {
   "cell_type": "code",
   "execution_count": 4,
   "metadata": {
    "collapsed": true
   },
   "outputs": [],
   "source": [
    "import numpy as np\n",
    "import  numpy\n",
    "from scipy.ndimage.interpolation import rotate"
   ]
  },
  {
   "cell_type": "code",
   "execution_count": 15,
   "metadata": {},
   "outputs": [
    {
     "data": {
      "text/plain": [
       "<matplotlib.image.AxesImage at 0x1c7bf86710>"
      ]
     },
     "execution_count": 15,
     "metadata": {},
     "output_type": "execute_result"
    },
    {
     "data": {
      "image/png": "[encoded data removed]",
      "text/plain": [
       "<matplotlib.figure.Figure at 0x1ede86d048>"
      ]
     },
     "metadata": {},
     "output_type": "display_data"
    }
   ],
   "source": [
    "plt.imshow(band1train[0], cmap='inferno')"
   ]
  },
  {
   "cell_type": "code",
   "execution_count": 5,
   "metadata": {},
   "outputs": [],
   "source": [
    "image = rotate(input=band1train[0], angle=90, reshape=False, axes=(0,1),)"
   ]
  },
  {
   "cell_type": "code",
   "execution_count": 19,
   "metadata": {},
   "outputs": [
    {
     "data": {
      "text/plain": [
       "<matplotlib.image.AxesImage at 0x1c389e0ac8>"
      ]
     },
     "execution_count": 19,
     "metadata": {},
     "output_type": "execute_result"
    },
    {
     "data": {
      "image/png": "[encoded data removed]",
      "text/plain": [
       "<matplotlib.figure.Figure at 0x1ec6ced9b0>"
      ]
     },
     "metadata": {},
     "output_type": "display_data"
    }
   ],
   "source": [
    "plt.imshow(image, cmap='inferno')"
   ]
  },
  {
   "cell_type": "code",
   "execution_count": 4,
   "metadata": {},
   "outputs": [],
   "source": [
    "for i,image in enumerate(band1train):\n",
    "    band1train[0] = rotate(input=band1train[i], angle=45, reshape=False, axes=(0,1),)"
   ]
  },
  {
   "cell_type": "code",
   "execution_count": 5,
   "metadata": {},
   "outputs": [
    {
     "name": "stdout",
     "output_type": "stream",
     "text": [
      "-20.6491\n",
      "5.20207\n"
     ]
    }
   ],
   "source": [
    "print(np.mean(band1train))\n",
    "print(np.std(band1train))"
   ]
  },
  {
   "cell_type": "markdown",
   "metadata": {},
   "source": [
    "# Smoothing"
   ]
  },
  {
   "cell_type": "code",
   "execution_count": 15,
   "metadata": {},
   "outputs": [
    {
     "data": {
      "text/plain": [
       "413"
      ]
     },
     "execution_count": 15,
     "metadata": {},
     "output_type": "execute_result"
    }
   ],
   "source": [
    "band1train = utils.smoothImages(band1train)\n",
    "band2train = utils.smoothImages(band2train)\n",
    "gc.collect()"
   ]
  },
  {
   "cell_type": "code",
   "execution_count": 16,
   "metadata": {},
   "outputs": [
    {
     "name": "stdout",
     "output_type": "stream",
     "text": [
      "-20.6558\n",
      "4.82124\n"
     ]
    }
   ],
   "source": [
    "print(np.mean(band1train))\n",
    "print(np.std(band1train))"
   ]
  },
  {
   "cell_type": "code",
   "execution_count": 17,
   "metadata": {},
   "outputs": [
    {
     "name": "stdout",
     "output_type": "stream",
     "text": [
      "-26.3207\n",
      "2.82872\n"
     ]
    }
   ],
   "source": [
    "print(np.mean(band2train))\n",
    "print(np.std(band2train))"
   ]
  },
  {
   "cell_type": "code",
   "execution_count": null,
   "metadata": {
    "collapsed": true
   },
   "outputs": [],
   "source": []
  },
  {
   "cell_type": "markdown",
   "metadata": {},
   "source": [
    "# Normalization"
   ]
  },
  {
   "cell_type": "code",
   "execution_count": 11,
   "metadata": {},
   "outputs": [
    {
     "name": "stdout",
     "output_type": "stream",
     "text": [
      "-6.94884e-07\n",
      "2.27301e-07\n",
      "0.88209\n",
      "0.87773\n",
      "-2.44645e-06\n",
      "6.72858e-06\n",
      "0.94216\n",
      "0.958313\n",
      "0.556167\n",
      "0.540819\n",
      "2.38991\n",
      "2.39248\n",
      "-1.91224e-06\n",
      "3.60267e-06\n",
      "4.95168e-07\n",
      "-3.14168e-06\n",
      "-1.71149e-09\n",
      "3.48489e-10\n",
      "8.1989e-09\n",
      "1.66768e-08\n",
      "-2.79453e-08\n",
      "-7.04582e-09\n",
      "1.0\n",
      "1.0\n",
      "1.0\n",
      "1.0\n",
      "1.0\n",
      "1.0\n",
      "1.0\n",
      "1.0\n",
      "1.0\n",
      "0.999999\n"
     ]
    }
   ],
   "source": [
    "band1train = (band1train-np.mean(band1train))/np.std(band1train)\n",
    "band2train = (band2train-np.mean(band2train))/np.std(band2train)\n",
    "band1test = (band1test-np.mean(band1test))/np.std(band1test)\n",
    "band2test = (band2test-np.mean(band2test))/np.std(band2test)\n",
    "\n",
    "band3train = (band1train + band2train)/2\n",
    "band3test = (band1test + band2test)/2\n",
    "print(np.mean(band3train))\n",
    "print(np.mean(band3test))\n",
    "print(np.std(band3train))\n",
    "print(np.std(band3test))\n",
    "\n",
    "band3trainSubstract = (band1train - band2train)\n",
    "band3testSubstract = (band1test - band2test)\n",
    "print(np.mean(band3trainSubstract))\n",
    "print(np.mean(band3testSubstract))\n",
    "print(np.std(band3trainSubstract))\n",
    "print(np.std(band3testSubstract))\n",
    "\n",
    "band3trainMultiply = (band1train * band2train)\n",
    "band3testMultiply = (band1test * band2test)\n",
    "print(np.mean(band3trainMultiply))\n",
    "print(np.mean(band3testMultiply))\n",
    "print(np.std(band3trainMultiply))\n",
    "print(np.std(band3testMultiply))\n",
    "\n",
    "\n",
    "band3train = (band3train-np.mean(band3train))/np.std(band3train)\n",
    "band3test= (band3test-np.mean(band3test))/np.std(band3test)\n",
    "band3trainSubstract = (band3trainSubstract-np.mean(band3trainSubstract))/np.std(band3trainSubstract)\n",
    "band3trainMultiply = (band3trainMultiply-np.mean(band3trainMultiply))/np.std(band3trainMultiply)\n",
    "band3testSubstract = (band3testSubstract-np.mean(band3testSubstract))/np.std(band3testSubstract)\n",
    "band3testMultiply = (band3testMultiply-np.mean(band3testMultiply))/np.std(band3testMultiply)\n",
    "\n",
    "\n",
    "print(np.mean(band1train))\n",
    "print(np.mean(band1test))\n",
    "print(np.mean(band2train))\n",
    "print(np.mean(band2test))\n",
    "print(np.mean(band3train))\n",
    "print(np.mean(band3test))\n",
    "print(np.mean(band3trainSubstract))\n",
    "print(np.mean(band3testSubstract))\n",
    "print(np.mean(band3trainMultiply))\n",
    "print(np.mean(band3testMultiply))\n",
    "\n",
    "\n",
    "print(np.std(band1train))\n",
    "print(np.std(band1test))\n",
    "print(np.std(band2train))\n",
    "print(np.std(band2test))\n",
    "print(np.std(band3train))\n",
    "print(np.std(band3test))\n",
    "print(np.std(band3trainSubstract))\n",
    "print(np.std(band3testSubstract))\n",
    "print(np.std(band3trainMultiply))\n",
    "print(np.std(band3testMultiply))\n",
    "#print(np.corrcoef([band3train.reshape(-1),band3test.reshape(-1)]))"
   ]
  },
  {
   "cell_type": "code",
   "execution_count": null,
   "metadata": {
    "collapsed": true
   },
   "outputs": [],
   "source": []
  },
  {
   "cell_type": "code",
   "execution_count": null,
   "metadata": {
    "collapsed": true
   },
   "outputs": [],
   "source": []
  },
  {
   "cell_type": "code",
   "execution_count": null,
   "metadata": {
    "collapsed": true
   },
   "outputs": [],
   "source": []
  },
  {
   "cell_type": "code",
   "execution_count": null,
   "metadata": {
    "collapsed": true
   },
   "outputs": [],
   "source": []
  },
  {
   "cell_type": "code",
   "execution_count": null,
   "metadata": {
    "collapsed": true
   },
   "outputs": [],
   "source": []
  },
  {
   "cell_type": "code",
   "execution_count": null,
   "metadata": {
    "collapsed": true
   },
   "outputs": [],
   "source": []
  },
  {
   "cell_type": "code",
   "execution_count": null,
   "metadata": {
    "collapsed": true
   },
   "outputs": [],
   "source": []
  },
  {
   "cell_type": "code",
   "execution_count": null,
   "metadata": {
    "collapsed": true
   },
   "outputs": [],
   "source": []
  },
  {
   "cell_type": "code",
   "execution_count": null,
   "metadata": {
    "collapsed": true
   },
   "outputs": [],
   "source": []
  }
 ],
 "metadata": {
  "kernelspec": {
   "display_name": "Python 3",
   "language": "python",
   "name": "python3"
  },
  "language_info": {
   "codemirror_mode": {
    "name": "ipython",
    "version": 3
   },
   "file_extension": ".py",
   "mimetype": "text/x-python",
   "name": "python",
   "nbconvert_exporter": "python",
   "pygments_lexer": "ipython3",
   "version": "3.6.3"
  }
 },
 "nbformat": 4,
 "nbformat_minor": 2
}
